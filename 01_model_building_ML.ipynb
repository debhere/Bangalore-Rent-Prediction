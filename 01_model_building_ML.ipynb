{
 "cells": [
  {
   "cell_type": "code",
   "execution_count": 1,
   "id": "5b438ce2",
   "metadata": {},
   "outputs": [],
   "source": [
    "import numpy as np\n",
    "import pandas as pd\n",
    "import matplotlib.pyplot as plt\n",
    "import seaborn as sns"
   ]
  },
  {
   "cell_type": "code",
   "execution_count": 3,
   "id": "c9baef18",
   "metadata": {},
   "outputs": [],
   "source": [
    "import warnings\n",
    "warnings.filterwarnings('ignore')"
   ]
  },
  {
   "cell_type": "code",
   "execution_count": 17,
   "id": "146d2892",
   "metadata": {},
   "outputs": [],
   "source": [
    "from sklearn.preprocessing import OneHotEncoder, LabelEncoder\n",
    "from sklearn.preprocessing import StandardScaler\n",
    "from sklearn.model_selection import train_test_split\n",
    "from sklearn.model_selection import RandomizedSearchCV\n",
    "from sklearn.model_selection import cross_val_predict\n",
    "from sklearn.impute import SimpleImputer"
   ]
  },
  {
   "cell_type": "code",
   "execution_count": 18,
   "id": "3984fe8f",
   "metadata": {},
   "outputs": [],
   "source": [
    "from sklearn.base import BaseEstimator\n",
    "from sklearn.compose import ColumnTransformer\n",
    "from sklearn.pipeline import Pipeline"
   ]
  },
  {
   "cell_type": "code",
   "execution_count": 19,
   "id": "5d39f695",
   "metadata": {},
   "outputs": [],
   "source": [
    "from sklearn.tree import DecisionTreeRegressor\n",
    "from sklearn.ensemble import RandomForestRegressor, HistGradientBoostingRegressor\n",
    "from sklearn.linear_model import Lasso\n",
    "from sklearn.svm import SVR\n",
    "import xgboost as xg\n",
    "from sklearn.neighbors import KNeighborsRegressor\n",
    "from sklearn.ensemble import VotingRegressor, StackingRegressor"
   ]
  },
  {
   "cell_type": "code",
   "execution_count": 20,
   "id": "1395f23e",
   "metadata": {},
   "outputs": [],
   "source": [
    "from sklearn.metrics import mean_squared_error\n",
    "from sklearn.metrics import r2_score"
   ]
  },
  {
   "cell_type": "code",
   "execution_count": 11,
   "id": "98e1c19a",
   "metadata": {},
   "outputs": [
    {
     "data": {
      "text/html": [
       "<div>\n",
       "<style scoped>\n",
       "    .dataframe tbody tr th:only-of-type {\n",
       "        vertical-align: middle;\n",
       "    }\n",
       "\n",
       "    .dataframe tbody tr th {\n",
       "        vertical-align: top;\n",
       "    }\n",
       "\n",
       "    .dataframe thead th {\n",
       "        text-align: right;\n",
       "    }\n",
       "</style>\n",
       "<table border=\"1\" class=\"dataframe\">\n",
       "  <thead>\n",
       "    <tr style=\"text-align: right;\">\n",
       "      <th></th>\n",
       "      <th>Locality</th>\n",
       "      <th>MinPrice</th>\n",
       "      <th>MaxPrice</th>\n",
       "      <th>AvgRent</th>\n",
       "      <th>HouseType</th>\n",
       "    </tr>\n",
       "  </thead>\n",
       "  <tbody>\n",
       "    <tr>\n",
       "      <th>661</th>\n",
       "      <td>Sidedahalli</td>\n",
       "      <td>10000</td>\n",
       "      <td>NaN</td>\n",
       "      <td>10000</td>\n",
       "      <td>2BHK</td>\n",
       "    </tr>\n",
       "    <tr>\n",
       "      <th>379</th>\n",
       "      <td>Adugodi</td>\n",
       "      <td>14500</td>\n",
       "      <td>19500</td>\n",
       "      <td>16333.33</td>\n",
       "      <td>2BHK</td>\n",
       "    </tr>\n",
       "    <tr>\n",
       "      <th>704</th>\n",
       "      <td>Doddakannelli</td>\n",
       "      <td>26500</td>\n",
       "      <td>NaN</td>\n",
       "      <td>26500</td>\n",
       "      <td>3BHK</td>\n",
       "    </tr>\n",
       "    <tr>\n",
       "      <th>843</th>\n",
       "      <td>Murugesh Palya</td>\n",
       "      <td>7000</td>\n",
       "      <td>8000</td>\n",
       "      <td>7500</td>\n",
       "      <td>1BHK</td>\n",
       "    </tr>\n",
       "    <tr>\n",
       "      <th>700</th>\n",
       "      <td>Choodasandra</td>\n",
       "      <td>6500</td>\n",
       "      <td>15000</td>\n",
       "      <td>1062.5</td>\n",
       "      <td>2BHK</td>\n",
       "    </tr>\n",
       "    <tr>\n",
       "      <th>547</th>\n",
       "      <td>Kodipur</td>\n",
       "      <td>NaN</td>\n",
       "      <td>NaN</td>\n",
       "      <td>-</td>\n",
       "      <td>2BHK</td>\n",
       "    </tr>\n",
       "    <tr>\n",
       "      <th>828</th>\n",
       "      <td>Chandra Layout Extension</td>\n",
       "      <td>8700</td>\n",
       "      <td>NaN</td>\n",
       "      <td>8700</td>\n",
       "      <td>1BHK</td>\n",
       "    </tr>\n",
       "    <tr>\n",
       "      <th>386</th>\n",
       "      <td>Bannerughatta</td>\n",
       "      <td>27000</td>\n",
       "      <td>30000</td>\n",
       "      <td>28500</td>\n",
       "      <td>3BHK</td>\n",
       "    </tr>\n",
       "    <tr>\n",
       "      <th>332</th>\n",
       "      <td>Ejipura</td>\n",
       "      <td>50000</td>\n",
       "      <td>52000</td>\n",
       "      <td>51000</td>\n",
       "      <td>3BHK</td>\n",
       "    </tr>\n",
       "    <tr>\n",
       "      <th>606</th>\n",
       "      <td>Sarjapur Road Till Wipro</td>\n",
       "      <td>NaN</td>\n",
       "      <td>NaN</td>\n",
       "      <td>-</td>\n",
       "      <td>1BHK</td>\n",
       "    </tr>\n",
       "  </tbody>\n",
       "</table>\n",
       "</div>"
      ],
      "text/plain": [
       "                     Locality MinPrice MaxPrice   AvgRent HouseType\n",
       "661               Sidedahalli    10000      NaN     10000      2BHK\n",
       "379                   Adugodi    14500    19500  16333.33      2BHK\n",
       "704             Doddakannelli    26500      NaN     26500      3BHK\n",
       "843            Murugesh Palya     7000     8000      7500      1BHK\n",
       "700              Choodasandra     6500    15000    1062.5      2BHK\n",
       "547                   Kodipur      NaN      NaN         -      2BHK\n",
       "828  Chandra Layout Extension     8700      NaN      8700      1BHK\n",
       "386             Bannerughatta    27000    30000     28500      3BHK\n",
       "332                   Ejipura    50000    52000     51000      3BHK\n",
       "606  Sarjapur Road Till Wipro      NaN      NaN         -      1BHK"
      ]
     },
     "execution_count": 11,
     "metadata": {},
     "output_type": "execute_result"
    }
   ],
   "source": [
    "bloreRent = pd.read_csv('data/BangaloreHouseRentDtls.csv')\n",
    "bloreRent.sample(10)"
   ]
  },
  {
   "cell_type": "code",
   "execution_count": 12,
   "id": "4b40f0c5",
   "metadata": {},
   "outputs": [
    {
     "name": "stdout",
     "output_type": "stream",
     "text": [
      "<class 'pandas.core.frame.DataFrame'>\n",
      "RangeIndex: 1080 entries, 0 to 1079\n",
      "Data columns (total 5 columns):\n",
      " #   Column     Non-Null Count  Dtype \n",
      "---  ------     --------------  ----- \n",
      " 0   Locality   1080 non-null   object\n",
      " 1   MinPrice   857 non-null    object\n",
      " 2   MaxPrice   533 non-null    object\n",
      " 3   AvgRent    1080 non-null   object\n",
      " 4   HouseType  1080 non-null   object\n",
      "dtypes: object(5)\n",
      "memory usage: 42.3+ KB\n"
     ]
    }
   ],
   "source": [
    "bloreRent.info()"
   ]
  },
  {
   "cell_type": "code",
   "execution_count": 25,
   "id": "e735508b",
   "metadata": {},
   "outputs": [
    {
     "data": {
      "text/plain": [
       "Hulimavu                             6\n",
       "Dasarahalli on Tumkur Road           6\n",
       "Bommanahalli                         6\n",
       "Hoskote                              6\n",
       "JP Nagar Phase 7                     6\n",
       "                                    ..\n",
       "Malleswaram                          3\n",
       "Anagalapura Near Hennur Main Road    3\n",
       "JP Nagar Phase 9                     3\n",
       "Vibhutipura                          3\n",
       "Guddahatti                           3\n",
       "Name: Locality, Length: 355, dtype: int64"
      ]
     },
     "execution_count": 25,
     "metadata": {},
     "output_type": "execute_result"
    }
   ],
   "source": [
    "bloreRent['Locality'].value_counts()"
   ]
  },
  {
   "cell_type": "code",
   "execution_count": 29,
   "id": "72c8e0f9",
   "metadata": {},
   "outputs": [
    {
     "data": {
      "text/html": [
       "<div>\n",
       "<style scoped>\n",
       "    .dataframe tbody tr th:only-of-type {\n",
       "        vertical-align: middle;\n",
       "    }\n",
       "\n",
       "    .dataframe tbody tr th {\n",
       "        vertical-align: top;\n",
       "    }\n",
       "\n",
       "    .dataframe thead th {\n",
       "        text-align: right;\n",
       "    }\n",
       "</style>\n",
       "<table border=\"1\" class=\"dataframe\">\n",
       "  <thead>\n",
       "    <tr style=\"text-align: right;\">\n",
       "      <th></th>\n",
       "      <th>Locality</th>\n",
       "      <th>MinPrice</th>\n",
       "      <th>MaxPrice</th>\n",
       "      <th>AvgRent</th>\n",
       "      <th>HouseType</th>\n",
       "    </tr>\n",
       "  </thead>\n",
       "  <tbody>\n",
       "    <tr>\n",
       "      <th>0</th>\n",
       "      <td>HSR Layout</td>\n",
       "      <td>5000</td>\n",
       "      <td>19300</td>\n",
       "      <td>12647.22</td>\n",
       "      <td>1BHK</td>\n",
       "    </tr>\n",
       "    <tr>\n",
       "      <th>1</th>\n",
       "      <td>HSR Layout</td>\n",
       "      <td>12000</td>\n",
       "      <td>40000</td>\n",
       "      <td>20455.28</td>\n",
       "      <td>2BHK</td>\n",
       "    </tr>\n",
       "    <tr>\n",
       "      <th>2</th>\n",
       "      <td>HSR Layout</td>\n",
       "      <td>18000</td>\n",
       "      <td>85000</td>\n",
       "      <td>4283.33</td>\n",
       "      <td>3BHK</td>\n",
       "    </tr>\n",
       "  </tbody>\n",
       "</table>\n",
       "</div>"
      ],
      "text/plain": [
       "     Locality MinPrice MaxPrice   AvgRent HouseType\n",
       "0  HSR Layout     5000    19300  12647.22      1BHK\n",
       "1  HSR Layout    12000    40000  20455.28      2BHK\n",
       "2  HSR Layout    18000    85000   4283.33      3BHK"
      ]
     },
     "execution_count": 29,
     "metadata": {},
     "output_type": "execute_result"
    }
   ],
   "source": [
    "bloreRent.loc[bloreRent['Locality'] == 'HSR Layout']"
   ]
  },
  {
   "cell_type": "code",
   "execution_count": null,
   "id": "5d698f9a",
   "metadata": {},
   "outputs": [],
   "source": []
  }
 ],
 "metadata": {
  "kernelspec": {
   "display_name": "Python 3 (ipykernel)",
   "language": "python",
   "name": "python3"
  },
  "language_info": {
   "codemirror_mode": {
    "name": "ipython",
    "version": 3
   },
   "file_extension": ".py",
   "mimetype": "text/x-python",
   "name": "python",
   "nbconvert_exporter": "python",
   "pygments_lexer": "ipython3",
   "version": "3.11.3"
  }
 },
 "nbformat": 4,
 "nbformat_minor": 5
}
